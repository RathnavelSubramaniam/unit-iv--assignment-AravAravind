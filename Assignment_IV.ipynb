{
 "cells": [
  {
   "cell_type": "markdown",
   "metadata": {
    "id": "J3VsmJPKJhg8"
   },
   "source": [
    "**Assignment IV---Data Visualization with Matplotlib and Seaborn**"
   ]
  },
  {
   "cell_type": "code",
   "execution_count": 1,
   "metadata": {
    "id": "HoiuuIJsJfNu"
   },
   "outputs": [],
   "source": [
    "import matplotlib.pyplot as plt\n",
    "import seaborn as sns\n",
    "%matplotlib inline"
   ]
  },
  {
   "cell_type": "markdown",
   "metadata": {
    "id": "arDgRSlSJ9W8"
   },
   "source": [
    "**Create Dataset as follwos**\n"
   ]
  },
  {
   "cell_type": "code",
   "execution_count": 2,
   "metadata": {
    "id": "5qIMRVrWJ8fk"
   },
   "outputs": [],
   "source": [
    "x = [1, 2, 3, 4, 5]\n",
    "y = [1, 5, 4, 7, 4]"
   ]
  },
  {
   "cell_type": "markdown",
   "metadata": {
    "id": "t2wdVoPgKWUc"
   },
   "source": [
    "***Q1***: Plot Line chart with following\n",
    "\n",
    "1.   Line Style dotted and Line-color should be red\n",
    "2.   X label name = x\n",
    "3.   Y label name = y\n",
    "4.   Add title as Example plot\n",
    "5.   Add a circle marker.\n",
    "6.   Line marker color as red\n",
    "7.   Line width should be 3\n",
    "\n",
    "\n",
    "\n",
    "\n",
    "\n"
   ]
  },
  {
   "cell_type": "code",
   "execution_count": 3,
   "metadata": {
    "id": "_YQUAsdYLCa7"
   },
   "outputs": [
    {
     "data": {
      "text/plain": [
       "Text(0.5, 1.0, 'Example plot')"
      ]
     },
     "execution_count": 3,
     "metadata": {},
     "output_type": "execute_result"
    },
    {
     "data": {
      "image/png": "[encoded data removed]",
      "text/plain": [
       "<Figure size 432x288 with 1 Axes>"
      ]
     },
     "metadata": {
      "needs_background": "light"
     },
     "output_type": "display_data"
    }
   ],
   "source": [
    "plt.plot(x,y,'o:r',lw=3)\n",
    "plt.xlabel(\"X\")\n",
    "plt.ylabel(\"Y\")\n",
    "plt.title(\"Example plot\")"
   ]
  },
  {
   "cell_type": "markdown",
   "metadata": {
    "id": "boeoeeaWq8Bl"
   },
   "source": [
    "***Q2***: Use a proper plot to know the relationship between the variables sepal_length and petal_length from the iris data\n",
    "Comment on your result."
   ]
  },
  {
   "cell_type": "code",
   "execution_count": 5,
   "metadata": {
    "id": "-JLRG1JmrP_N"
   },
   "outputs": [],
   "source": [
    "iris_df = sns.load_dataset(\"iris\");\n"
   ]
  },
  {
   "cell_type": "code",
   "execution_count": 6,
   "metadata": {},
   "outputs": [
    {
     "data": {
      "text/html": [
       "<div>\n",
       "<style scoped>\n",
       "    .dataframe tbody tr th:only-of-type {\n",
       "        vertical-align: middle;\n",
       "    }\n",
       "\n",
       "    .dataframe tbody tr th {\n",
       "        vertical-align: top;\n",
       "    }\n",
       "\n",
       "    .dataframe thead th {\n",
       "        text-align: right;\n",
       "    }\n",
       "</style>\n",
       "<table border=\"1\" class=\"dataframe\">\n",
       "  <thead>\n",
       "    <tr style=\"text-align: right;\">\n",
       "      <th></th>\n",
       "      <th>sepal_length</th>\n",
       "      <th>sepal_width</th>\n",
       "      <th>petal_length</th>\n",
       "      <th>petal_width</th>\n",
       "      <th>species</th>\n",
       "    </tr>\n",
       "  </thead>\n",
       "  <tbody>\n",
       "    <tr>\n",
       "      <th>0</th>\n",
       "      <td>5.1</td>\n",
       "      <td>3.5</td>\n",
       "      <td>1.4</td>\n",
       "      <td>0.2</td>\n",
       "      <td>setosa</td>\n",
       "    </tr>\n",
       "    <tr>\n",
       "      <th>1</th>\n",
       "      <td>4.9</td>\n",
       "      <td>3.0</td>\n",
       "      <td>1.4</td>\n",
       "      <td>0.2</td>\n",
       "      <td>setosa</td>\n",
       "    </tr>\n",
       "    <tr>\n",
       "      <th>2</th>\n",
       "      <td>4.7</td>\n",
       "      <td>3.2</td>\n",
       "      <td>1.3</td>\n",
       "      <td>0.2</td>\n",
       "      <td>setosa</td>\n",
       "    </tr>\n",
       "    <tr>\n",
       "      <th>3</th>\n",
       "      <td>4.6</td>\n",
       "      <td>3.1</td>\n",
       "      <td>1.5</td>\n",
       "      <td>0.2</td>\n",
       "      <td>setosa</td>\n",
       "    </tr>\n",
       "    <tr>\n",
       "      <th>4</th>\n",
       "      <td>5.0</td>\n",
       "      <td>3.6</td>\n",
       "      <td>1.4</td>\n",
       "      <td>0.2</td>\n",
       "      <td>setosa</td>\n",
       "    </tr>\n",
       "    <tr>\n",
       "      <th>...</th>\n",
       "      <td>...</td>\n",
       "      <td>...</td>\n",
       "      <td>...</td>\n",
       "      <td>...</td>\n",
       "      <td>...</td>\n",
       "    </tr>\n",
       "    <tr>\n",
       "      <th>145</th>\n",
       "      <td>6.7</td>\n",
       "      <td>3.0</td>\n",
       "      <td>5.2</td>\n",
       "      <td>2.3</td>\n",
       "      <td>virginica</td>\n",
       "    </tr>\n",
       "    <tr>\n",
       "      <th>146</th>\n",
       "      <td>6.3</td>\n",
       "      <td>2.5</td>\n",
       "      <td>5.0</td>\n",
       "      <td>1.9</td>\n",
       "      <td>virginica</td>\n",
       "    </tr>\n",
       "    <tr>\n",
       "      <th>147</th>\n",
       "      <td>6.5</td>\n",
       "      <td>3.0</td>\n",
       "      <td>5.2</td>\n",
       "      <td>2.0</td>\n",
       "      <td>virginica</td>\n",
       "    </tr>\n",
       "    <tr>\n",
       "      <th>148</th>\n",
       "      <td>6.2</td>\n",
       "      <td>3.4</td>\n",
       "      <td>5.4</td>\n",
       "      <td>2.3</td>\n",
       "      <td>virginica</td>\n",
       "    </tr>\n",
       "    <tr>\n",
       "      <th>149</th>\n",
       "      <td>5.9</td>\n",
       "      <td>3.0</td>\n",
       "      <td>5.1</td>\n",
       "      <td>1.8</td>\n",
       "      <td>virginica</td>\n",
       "    </tr>\n",
       "  </tbody>\n",
       "</table>\n",
       "<p>150 rows × 5 columns</p>\n",
       "</div>"
      ],
      "text/plain": [
       "     sepal_length  sepal_width  petal_length  petal_width    species\n",
       "0             5.1          3.5           1.4          0.2     setosa\n",
       "1             4.9          3.0           1.4          0.2     setosa\n",
       "2             4.7          3.2           1.3          0.2     setosa\n",
       "3             4.6          3.1           1.5          0.2     setosa\n",
       "4             5.0          3.6           1.4          0.2     setosa\n",
       "..            ...          ...           ...          ...        ...\n",
       "145           6.7          3.0           5.2          2.3  virginica\n",
       "146           6.3          2.5           5.0          1.9  virginica\n",
       "147           6.5          3.0           5.2          2.0  virginica\n",
       "148           6.2          3.4           5.4          2.3  virginica\n",
       "149           5.9          3.0           5.1          1.8  virginica\n",
       "\n",
       "[150 rows x 5 columns]"
      ]
     },
     "execution_count": 6,
     "metadata": {},
     "output_type": "execute_result"
    }
   ],
   "source": [
    "iris_df"
   ]
  },
  {
   "cell_type": "code",
   "execution_count": 8,
   "metadata": {},
   "outputs": [
    {
     "data": {
      "image/png": "[encoded data removed]",
      "text/plain": [
       "<Figure size 432x288 with 1 Axes>"
      ]
     },
     "metadata": {
      "needs_background": "light"
     },
     "output_type": "display_data"
    }
   ],
   "source": [
    "sns.scatterplot(data=iris_df,x=\"sepal_length\",y=\"petal_length\");"
   ]
  },
  {
   "cell_type": "markdown",
   "metadata": {
    "id": "SFVtrrG6unmS"
   },
   "source": [
    "***Q3***:  Visualizing the multidimensional relationships among the vaiable in a dataset \"tips\" according to the variable \"time\"***( Hint: hue='time')***\n",
    "\n"
   ]
  },
  {
   "cell_type": "code",
   "execution_count": 3,
   "metadata": {
    "id": "2wEH5nXbuGuT"
   },
   "outputs": [],
   "source": [
    "tips_df = sns.load_dataset(\"tips\");\n"
   ]
  },
  {
   "cell_type": "code",
   "execution_count": 4,
   "metadata": {
    "id": "YvXtBRkGtFqT"
   },
   "outputs": [
    {
     "data": {
      "text/html": [
       "<div>\n",
       "<style scoped>\n",
       "    .dataframe tbody tr th:only-of-type {\n",
       "        vertical-align: middle;\n",
       "    }\n",
       "\n",
       "    .dataframe tbody tr th {\n",
       "        vertical-align: top;\n",
       "    }\n",
       "\n",
       "    .dataframe thead th {\n",
       "        text-align: right;\n",
       "    }\n",
       "</style>\n",
       "<table border=\"1\" class=\"dataframe\">\n",
       "  <thead>\n",
       "    <tr style=\"text-align: right;\">\n",
       "      <th></th>\n",
       "      <th>total_bill</th>\n",
       "      <th>tip</th>\n",
       "      <th>sex</th>\n",
       "      <th>smoker</th>\n",
       "      <th>day</th>\n",
       "      <th>time</th>\n",
       "      <th>size</th>\n",
       "    </tr>\n",
       "  </thead>\n",
       "  <tbody>\n",
       "    <tr>\n",
       "      <th>0</th>\n",
       "      <td>16.99</td>\n",
       "      <td>1.01</td>\n",
       "      <td>Female</td>\n",
       "      <td>No</td>\n",
       "      <td>Sun</td>\n",
       "      <td>Dinner</td>\n",
       "      <td>2</td>\n",
       "    </tr>\n",
       "    <tr>\n",
       "      <th>1</th>\n",
       "      <td>10.34</td>\n",
       "      <td>1.66</td>\n",
       "      <td>Male</td>\n",
       "      <td>No</td>\n",
       "      <td>Sun</td>\n",
       "      <td>Dinner</td>\n",
       "      <td>3</td>\n",
       "    </tr>\n",
       "    <tr>\n",
       "      <th>2</th>\n",
       "      <td>21.01</td>\n",
       "      <td>3.50</td>\n",
       "      <td>Male</td>\n",
       "      <td>No</td>\n",
       "      <td>Sun</td>\n",
       "      <td>Dinner</td>\n",
       "      <td>3</td>\n",
       "    </tr>\n",
       "    <tr>\n",
       "      <th>3</th>\n",
       "      <td>23.68</td>\n",
       "      <td>3.31</td>\n",
       "      <td>Male</td>\n",
       "      <td>No</td>\n",
       "      <td>Sun</td>\n",
       "      <td>Dinner</td>\n",
       "      <td>2</td>\n",
       "    </tr>\n",
       "    <tr>\n",
       "      <th>4</th>\n",
       "      <td>24.59</td>\n",
       "      <td>3.61</td>\n",
       "      <td>Female</td>\n",
       "      <td>No</td>\n",
       "      <td>Sun</td>\n",
       "      <td>Dinner</td>\n",
       "      <td>4</td>\n",
       "    </tr>\n",
       "    <tr>\n",
       "      <th>...</th>\n",
       "      <td>...</td>\n",
       "      <td>...</td>\n",
       "      <td>...</td>\n",
       "      <td>...</td>\n",
       "      <td>...</td>\n",
       "      <td>...</td>\n",
       "      <td>...</td>\n",
       "    </tr>\n",
       "    <tr>\n",
       "      <th>239</th>\n",
       "      <td>29.03</td>\n",
       "      <td>5.92</td>\n",
       "      <td>Male</td>\n",
       "      <td>No</td>\n",
       "      <td>Sat</td>\n",
       "      <td>Dinner</td>\n",
       "      <td>3</td>\n",
       "    </tr>\n",
       "    <tr>\n",
       "      <th>240</th>\n",
       "      <td>27.18</td>\n",
       "      <td>2.00</td>\n",
       "      <td>Female</td>\n",
       "      <td>Yes</td>\n",
       "      <td>Sat</td>\n",
       "      <td>Dinner</td>\n",
       "      <td>2</td>\n",
       "    </tr>\n",
       "    <tr>\n",
       "      <th>241</th>\n",
       "      <td>22.67</td>\n",
       "      <td>2.00</td>\n",
       "      <td>Male</td>\n",
       "      <td>Yes</td>\n",
       "      <td>Sat</td>\n",
       "      <td>Dinner</td>\n",
       "      <td>2</td>\n",
       "    </tr>\n",
       "    <tr>\n",
       "      <th>242</th>\n",
       "      <td>17.82</td>\n",
       "      <td>1.75</td>\n",
       "      <td>Male</td>\n",
       "      <td>No</td>\n",
       "      <td>Sat</td>\n",
       "      <td>Dinner</td>\n",
       "      <td>2</td>\n",
       "    </tr>\n",
       "    <tr>\n",
       "      <th>243</th>\n",
       "      <td>18.78</td>\n",
       "      <td>3.00</td>\n",
       "      <td>Female</td>\n",
       "      <td>No</td>\n",
       "      <td>Thur</td>\n",
       "      <td>Dinner</td>\n",
       "      <td>2</td>\n",
       "    </tr>\n",
       "  </tbody>\n",
       "</table>\n",
       "<p>244 rows × 7 columns</p>\n",
       "</div>"
      ],
      "text/plain": [
       "     total_bill   tip     sex smoker   day    time  size\n",
       "0         16.99  1.01  Female     No   Sun  Dinner     2\n",
       "1         10.34  1.66    Male     No   Sun  Dinner     3\n",
       "2         21.01  3.50    Male     No   Sun  Dinner     3\n",
       "3         23.68  3.31    Male     No   Sun  Dinner     2\n",
       "4         24.59  3.61  Female     No   Sun  Dinner     4\n",
       "..          ...   ...     ...    ...   ...     ...   ...\n",
       "239       29.03  5.92    Male     No   Sat  Dinner     3\n",
       "240       27.18  2.00  Female    Yes   Sat  Dinner     2\n",
       "241       22.67  2.00    Male    Yes   Sat  Dinner     2\n",
       "242       17.82  1.75    Male     No   Sat  Dinner     2\n",
       "243       18.78  3.00  Female     No  Thur  Dinner     2\n",
       "\n",
       "[244 rows x 7 columns]"
      ]
     },
     "execution_count": 4,
     "metadata": {},
     "output_type": "execute_result"
    }
   ],
   "source": [
    "tips_df"
   ]
  },
  {
   "cell_type": "code",
   "execution_count": 10,
   "metadata": {},
   "outputs": [
    {
     "data": {
      "image/png": "[encoded data removed]",
      "text/plain": [
       "<Figure size 418.875x360 with 1 Axes>"
      ]
     },
     "metadata": {
      "needs_background": "light"
     },
     "output_type": "display_data"
    }
   ],
   "source": [
    "sns.relplot(data=tips_df, x=\"total_bill\", y=\"tip\", hue=\"day\");"
   ]
  },
  {
   "cell_type": "markdown",
   "metadata": {
    "id": "hDm9IZykziQe"
   },
   "source": [
    "***Q4*** : Write code to produce the below plot (***Hint: Use sns.relplot***)\n",
    "\n",
    "![image.png](data:image/png;base64,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)\n"
   ]
  },
  {
   "cell_type": "code",
   "execution_count": 7,
   "metadata": {
    "id": "ogJC237o3Pyz"
   },
   "outputs": [],
   "source": [
    "import matplotlib.pyplot as plt\n",
    "import seaborn as sns\n",
    "# load dataset\n",
    "titanic = sns.load_dataset('titanic')\n",
    "\n",
    "\n"
   ]
  },
  {
   "cell_type": "code",
   "execution_count": 8,
   "metadata": {},
   "outputs": [
    {
     "data": {
      "text/html": [
       "<div>\n",
       "<style scoped>\n",
       "    .dataframe tbody tr th:only-of-type {\n",
       "        vertical-align: middle;\n",
       "    }\n",
       "\n",
       "    .dataframe tbody tr th {\n",
       "        vertical-align: top;\n",
       "    }\n",
       "\n",
       "    .dataframe thead th {\n",
       "        text-align: right;\n",
       "    }\n",
       "</style>\n",
       "<table border=\"1\" class=\"dataframe\">\n",
       "  <thead>\n",
       "    <tr style=\"text-align: right;\">\n",
       "      <th></th>\n",
       "      <th>survived</th>\n",
       "      <th>pclass</th>\n",
       "      <th>sex</th>\n",
       "      <th>age</th>\n",
       "      <th>sibsp</th>\n",
       "      <th>parch</th>\n",
       "      <th>fare</th>\n",
       "      <th>embarked</th>\n",
       "      <th>class</th>\n",
       "      <th>who</th>\n",
       "      <th>adult_male</th>\n",
       "      <th>deck</th>\n",
       "      <th>embark_town</th>\n",
       "      <th>alive</th>\n",
       "      <th>alone</th>\n",
       "    </tr>\n",
       "  </thead>\n",
       "  <tbody>\n",
       "    <tr>\n",
       "      <th>0</th>\n",
       "      <td>0</td>\n",
       "      <td>3</td>\n",
       "      <td>male</td>\n",
       "      <td>22.0</td>\n",
       "      <td>1</td>\n",
       "      <td>0</td>\n",
       "      <td>7.2500</td>\n",
       "      <td>S</td>\n",
       "      <td>Third</td>\n",
       "      <td>man</td>\n",
       "      <td>True</td>\n",
       "      <td>NaN</td>\n",
       "      <td>Southampton</td>\n",
       "      <td>no</td>\n",
       "      <td>False</td>\n",
       "    </tr>\n",
       "    <tr>\n",
       "      <th>1</th>\n",
       "      <td>1</td>\n",
       "      <td>1</td>\n",
       "      <td>female</td>\n",
       "      <td>38.0</td>\n",
       "      <td>1</td>\n",
       "      <td>0</td>\n",
       "      <td>71.2833</td>\n",
       "      <td>C</td>\n",
       "      <td>First</td>\n",
       "      <td>woman</td>\n",
       "      <td>False</td>\n",
       "      <td>C</td>\n",
       "      <td>Cherbourg</td>\n",
       "      <td>yes</td>\n",
       "      <td>False</td>\n",
       "    </tr>\n",
       "    <tr>\n",
       "      <th>2</th>\n",
       "      <td>1</td>\n",
       "      <td>3</td>\n",
       "      <td>female</td>\n",
       "      <td>26.0</td>\n",
       "      <td>0</td>\n",
       "      <td>0</td>\n",
       "      <td>7.9250</td>\n",
       "      <td>S</td>\n",
       "      <td>Third</td>\n",
       "      <td>woman</td>\n",
       "      <td>False</td>\n",
       "      <td>NaN</td>\n",
       "      <td>Southampton</td>\n",
       "      <td>yes</td>\n",
       "      <td>True</td>\n",
       "    </tr>\n",
       "    <tr>\n",
       "      <th>3</th>\n",
       "      <td>1</td>\n",
       "      <td>1</td>\n",
       "      <td>female</td>\n",
       "      <td>35.0</td>\n",
       "      <td>1</td>\n",
       "      <td>0</td>\n",
       "      <td>53.1000</td>\n",
       "      <td>S</td>\n",
       "      <td>First</td>\n",
       "      <td>woman</td>\n",
       "      <td>False</td>\n",
       "      <td>C</td>\n",
       "      <td>Southampton</td>\n",
       "      <td>yes</td>\n",
       "      <td>False</td>\n",
       "    </tr>\n",
       "    <tr>\n",
       "      <th>4</th>\n",
       "      <td>0</td>\n",
       "      <td>3</td>\n",
       "      <td>male</td>\n",
       "      <td>35.0</td>\n",
       "      <td>0</td>\n",
       "      <td>0</td>\n",
       "      <td>8.0500</td>\n",
       "      <td>S</td>\n",
       "      <td>Third</td>\n",
       "      <td>man</td>\n",
       "      <td>True</td>\n",
       "      <td>NaN</td>\n",
       "      <td>Southampton</td>\n",
       "      <td>no</td>\n",
       "      <td>True</td>\n",
       "    </tr>\n",
       "    <tr>\n",
       "      <th>...</th>\n",
       "      <td>...</td>\n",
       "      <td>...</td>\n",
       "      <td>...</td>\n",
       "      <td>...</td>\n",
       "      <td>...</td>\n",
       "      <td>...</td>\n",
       "      <td>...</td>\n",
       "      <td>...</td>\n",
       "      <td>...</td>\n",
       "      <td>...</td>\n",
       "      <td>...</td>\n",
       "      <td>...</td>\n",
       "      <td>...</td>\n",
       "      <td>...</td>\n",
       "      <td>...</td>\n",
       "    </tr>\n",
       "    <tr>\n",
       "      <th>886</th>\n",
       "      <td>0</td>\n",
       "      <td>2</td>\n",
       "      <td>male</td>\n",
       "      <td>27.0</td>\n",
       "      <td>0</td>\n",
       "      <td>0</td>\n",
       "      <td>13.0000</td>\n",
       "      <td>S</td>\n",
       "      <td>Second</td>\n",
       "      <td>man</td>\n",
       "      <td>True</td>\n",
       "      <td>NaN</td>\n",
       "      <td>Southampton</td>\n",
       "      <td>no</td>\n",
       "      <td>True</td>\n",
       "    </tr>\n",
       "    <tr>\n",
       "      <th>887</th>\n",
       "      <td>1</td>\n",
       "      <td>1</td>\n",
       "      <td>female</td>\n",
       "      <td>19.0</td>\n",
       "      <td>0</td>\n",
       "      <td>0</td>\n",
       "      <td>30.0000</td>\n",
       "      <td>S</td>\n",
       "      <td>First</td>\n",
       "      <td>woman</td>\n",
       "      <td>False</td>\n",
       "      <td>B</td>\n",
       "      <td>Southampton</td>\n",
       "      <td>yes</td>\n",
       "      <td>True</td>\n",
       "    </tr>\n",
       "    <tr>\n",
       "      <th>888</th>\n",
       "      <td>0</td>\n",
       "      <td>3</td>\n",
       "      <td>female</td>\n",
       "      <td>NaN</td>\n",
       "      <td>1</td>\n",
       "      <td>2</td>\n",
       "      <td>23.4500</td>\n",
       "      <td>S</td>\n",
       "      <td>Third</td>\n",
       "      <td>woman</td>\n",
       "      <td>False</td>\n",
       "      <td>NaN</td>\n",
       "      <td>Southampton</td>\n",
       "      <td>no</td>\n",
       "      <td>False</td>\n",
       "    </tr>\n",
       "    <tr>\n",
       "      <th>889</th>\n",
       "      <td>1</td>\n",
       "      <td>1</td>\n",
       "      <td>male</td>\n",
       "      <td>26.0</td>\n",
       "      <td>0</td>\n",
       "      <td>0</td>\n",
       "      <td>30.0000</td>\n",
       "      <td>C</td>\n",
       "      <td>First</td>\n",
       "      <td>man</td>\n",
       "      <td>True</td>\n",
       "      <td>C</td>\n",
       "      <td>Cherbourg</td>\n",
       "      <td>yes</td>\n",
       "      <td>True</td>\n",
       "    </tr>\n",
       "    <tr>\n",
       "      <th>890</th>\n",
       "      <td>0</td>\n",
       "      <td>3</td>\n",
       "      <td>male</td>\n",
       "      <td>32.0</td>\n",
       "      <td>0</td>\n",
       "      <td>0</td>\n",
       "      <td>7.7500</td>\n",
       "      <td>Q</td>\n",
       "      <td>Third</td>\n",
       "      <td>man</td>\n",
       "      <td>True</td>\n",
       "      <td>NaN</td>\n",
       "      <td>Queenstown</td>\n",
       "      <td>no</td>\n",
       "      <td>True</td>\n",
       "    </tr>\n",
       "  </tbody>\n",
       "</table>\n",
       "<p>891 rows × 15 columns</p>\n",
       "</div>"
      ],
      "text/plain": [
       "     survived  pclass     sex   age  sibsp  parch     fare embarked   class  \\\n",
       "0           0       3    male  22.0      1      0   7.2500        S   Third   \n",
       "1           1       1  female  38.0      1      0  71.2833        C   First   \n",
       "2           1       3  female  26.0      0      0   7.9250        S   Third   \n",
       "3           1       1  female  35.0      1      0  53.1000        S   First   \n",
       "4           0       3    male  35.0      0      0   8.0500        S   Third   \n",
       "..        ...     ...     ...   ...    ...    ...      ...      ...     ...   \n",
       "886         0       2    male  27.0      0      0  13.0000        S  Second   \n",
       "887         1       1  female  19.0      0      0  30.0000        S   First   \n",
       "888         0       3  female   NaN      1      2  23.4500        S   Third   \n",
       "889         1       1    male  26.0      0      0  30.0000        C   First   \n",
       "890         0       3    male  32.0      0      0   7.7500        Q   Third   \n",
       "\n",
       "       who  adult_male deck  embark_town alive  alone  \n",
       "0      man        True  NaN  Southampton    no  False  \n",
       "1    woman       False    C    Cherbourg   yes  False  \n",
       "2    woman       False  NaN  Southampton   yes   True  \n",
       "3    woman       False    C  Southampton   yes  False  \n",
       "4      man        True  NaN  Southampton    no   True  \n",
       "..     ...         ...  ...          ...   ...    ...  \n",
       "886    man        True  NaN  Southampton    no   True  \n",
       "887  woman       False    B  Southampton   yes   True  \n",
       "888  woman       False  NaN  Southampton    no  False  \n",
       "889    man        True    C    Cherbourg   yes   True  \n",
       "890    man        True  NaN   Queenstown    no   True  \n",
       "\n",
       "[891 rows x 15 columns]"
      ]
     },
     "execution_count": 8,
     "metadata": {},
     "output_type": "execute_result"
    }
   ],
   "source": [
    "titanic\n"
   ]
  },
  {
   "cell_type": "code",
   "execution_count": 11,
   "metadata": {},
   "outputs": [
    {
     "data": {
      "image/png": "[encoded data removed]",
      "text/plain": [
       "<Figure size 432x288 with 1 Axes>"
      ]
     },
     "metadata": {
      "needs_background": "light"
     },
     "output_type": "display_data"
    }
   ],
   "source": [
    "sns.barplot(data=titanic,x=\"sex\", y=\"survived\", hue=\"class\");"
   ]
  },
  {
   "cell_type": "markdown",
   "metadata": {
    "id": "TKUk2G4Z4jDp"
   },
   "source": [
    "***Q5 ***: Produce the plot below with your code by using the dataset named 'titanic' which is available in Seaborn dataset \n",
    "\n",
    "\n",
    "1.   Include Legend\n",
    "2.   Set ci parameter as 95\n",
    "\n",
    "\n",
    "![image.png](data:image/png;base64,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)\n",
    "\n",
    "\n",
    "\n"
   ]
  }
 ],
 "metadata": {
  "colab": {
   "name": "Assignment -III.ipynb",
   "provenance": []
  },
  "kernelspec": {
   "display_name": "Python 3 (ipykernel)",
   "language": "python",
   "name": "python3"
  },
  "language_info": {
   "codemirror_mode": {
    "name": "ipython",
    "version": 3
   },
   "file_extension": ".py",
   "mimetype": "text/x-python",
   "name": "python",
   "nbconvert_exporter": "python",
   "pygments_lexer": "ipython3",
   "version": "3.9.7"
  }
 },
 "nbformat": 4,
 "nbformat_minor": 1
}
